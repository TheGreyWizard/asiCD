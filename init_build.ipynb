{
 "metadata": {
  "language_info": {
   "codemirror_mode": {
    "name": "ipython",
    "version": 3
   },
   "file_extension": ".py",
   "mimetype": "text/x-python",
   "name": "python",
   "nbconvert_exporter": "python",
   "pygments_lexer": "ipython3",
   "version": "3.7.7-final"
  },
  "orig_nbformat": 2,
  "kernelspec": {
   "name": "python3",
   "display_name": "Python 3"
  }
 },
 "nbformat": 4,
 "nbformat_minor": 2,
 "cells": [
  {
   "source": [
    "QUICK AND DIRTY BUILD (13.11.2020)\n",
    "- Could not run on machine using ImageDataGenerator \n",
    "- Using Colab as Runtime Environment\n",
    "- Converting swimseg dataset into .npy files"
   ],
   "cell_type": "markdown",
   "metadata": {}
  },
  {
   "cell_type": "code",
   "execution_count": null,
   "metadata": {},
   "outputs": [],
   "source": [
    "import numpy as np\n",
    "import matplotlib.pyplot as plt\n",
    "import cv2\n",
    "from pathlib import Path\n",
    "from tensorflow.keras.preprocessing.image import ImageDataGenerator"
   ]
  },
  {
   "cell_type": "code",
   "execution_count": null,
   "metadata": {},
   "outputs": [],
   "source": [
    "from scripts import utilities"
   ]
  },
  {
   "cell_type": "code",
   "execution_count": null,
   "metadata": {},
   "outputs": [],
   "source": [
    "config = utilities.read_json(\"config.json\")\n",
    "dataset_path = config[\"dataset_path\"]"
   ]
  },
  {
   "cell_type": "code",
   "execution_count": null,
   "metadata": {},
   "outputs": [],
   "source": [
    "# dataset_path = \"dataset/swimseg-2-modded\"\n",
    "# train_generator = utilities.get_img_mask_generators(dataset_path + \"/train\")\n",
    "# test_generator = utilities.get_img_mask_generators(dataset_path + \"/test\")\n",
    "# val_generator = utilities.get_img_mask_generators(dataset_path + \"/val\")"
   ]
  },
  {
   "source": [
    "### Converting the dataset into .npy files"
   ],
   "cell_type": "markdown",
   "metadata": {}
  },
  {
   "cell_type": "code",
   "execution_count": null,
   "metadata": {
    "tags": []
   },
   "outputs": [],
   "source": [
    "def convert_to_npy_files(dataset_dict, partition = \"train\"):\n",
    "\n",
    "    paths_list = dataset_dict[partition]\n",
    "\n",
    "    img_arr = []\n",
    "    mask_arr = []\n",
    "\n",
    "    num_images = len(paths_list[0])\n",
    "    count = 0 \n",
    "\n",
    "    for img_path, mask_path in zip(paths_list[0], paths_list[1]):\n",
    "        img = cv2.imread(str(img_path))\n",
    "        mask = cv2.imread(str(mask_path))\n",
    "        \n",
    "        count += 1\n",
    "\n",
    "        img_arr.append(img)\n",
    "        mask_arr.append(mask)\n",
    "\n",
    "        print(f\"Reading {count}/{num_images}\")\n",
    "\n",
    "    img_arr = np.asarray(img_arr)\n",
    "    mask_arr = np.asarray(mask_arr)\n",
    "\n",
    "    timestamp = utilities.get_timestamp()\n",
    "\n",
    "    np.save(f\"outputs/{timestamp}-{partition}_images\", img_arr)\n",
    "    np.save(f\"outputs/{timestamp}-{partition}_labels\", mask_arr)\n",
    "\n",
    "    return True"
   ]
  },
  {
   "cell_type": "code",
   "execution_count": null,
   "metadata": {},
   "outputs": [],
   "source": [
    "dataset_dict = utilities.get_dataset_dict(Path(dataset_path))\n",
    "\n",
    "convert_to_npy_files(dataset_dict, \"train\")\n",
    "convert_to_npy_files(dataset_dict, \"test\")\n",
    "convert_to_npy_files(dataset_dict, \"val\")"
   ]
  },
  {
   "cell_type": "code",
   "execution_count": null,
   "metadata": {},
   "outputs": [],
   "source": []
  }
 ]
}