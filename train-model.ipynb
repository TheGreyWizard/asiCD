{
  "nbformat": 4,
  "nbformat_minor": 0,
  "metadata": {
    "language_info": {
      "codemirror_mode": {
        "name": "ipython",
        "version": 3
      },
      "file_extension": ".py",
      "mimetype": "text/x-python",
      "name": "python",
      "nbconvert_exporter": "python",
      "pygments_lexer": "ipython3",
      "version": "3.7.7-final"
    },
    "orig_nbformat": 2,
    "kernelspec": {
      "name": "python3",
      "display_name": "Python 3",
      "language": "python"
    },
    "colab": {
      "name": "train-model.ipynb",
      "provenance": [],
      "collapsed_sections": [],
      "toc_visible": true
    },
    "accelerator": "GPU"
  },
  "cells": [
    {
      "cell_type": "markdown",
      "metadata": {
        "id": "M0czpExbfdqB"
      },
      "source": [
        "## Mounting Drive"
      ]
    },
    {
      "cell_type": "code",
      "metadata": {
        "id": "71ZScgpdfdqB",
        "colab": {
          "base_uri": "https://localhost:8080/"
        },
        "outputId": "c7c8a12a-7708-4f68-a753-0c42b828b0ad"
      },
      "source": [
        "from google.colab import drive\n",
        "drive.mount('/content/drive')"
      ],
      "execution_count": null,
      "outputs": []
    },
    {
      "cell_type": "markdown",
      "metadata": {
        "id": "noE3LEr0acQG"
      },
      "source": []
    },
    {
      "cell_type": "code",
      "metadata": {
        "id": "Q0d6Ya-Nadtv",
        "colab": {
          "base_uri": "https://localhost:8080/"
        },
        "outputId": "dc30c8d1-9d53-401e-cc0e-1e500c0d9d5e"
      },
      "source": [
        "WORKING_DIR = \"/content/drive/MyDrive/asiCD-dev\"\n",
        "\n",
        "%cd drive/MyDrive/asiCD-dev"
      ],
      "execution_count": null,
      "outputs": []
    },
    {
      "cell_type": "code",
      "metadata": {
        "id": "u_F3zxk6ZhNw"
      },
      "source": [
        "\r\n",
        "!rm -rf ../tmp/"
      ],
      "execution_count": null,
      "outputs": []
    },
    {
      "cell_type": "code",
      "metadata": {
        "colab": {
          "base_uri": "https://localhost:8080/"
        },
        "id": "QPrm6-yHbEze",
        "outputId": "f4615b41-d02a-4607-d104-fdc41be10c50"
      },
      "source": [
        "%ls -a"
      ],
      "execution_count": null,
      "outputs": []
    },
    {
      "cell_type": "markdown",
      "metadata": {
        "id": "HMrWrXp0fdqC"
      },
      "source": [
        "## Installing Dependencies"
      ]
    },
    {
      "cell_type": "code",
      "metadata": {
        "id": "TZiVv3ijfdqC"
      },
      "source": [
        "# !pip install tensorflow-gpu==2.1.0\n",
        "# !pip install tqdm\n",
        "# !pip install imgaug"
      ],
      "execution_count": null,
      "outputs": []
    },
    {
      "cell_type": "code",
      "metadata": {
        "id": "qlW3nUKtfdqC",
        "colab": {
          "base_uri": "https://localhost:8080/"
        },
        "outputId": "59b761d2-8dd9-4c0e-9620-645ceb6f8ecc"
      },
      "source": [
        "import numpy as np\n",
        "from pathlib import Path\n",
        "import matplotlib.pyplot as plt\n",
        "import cv2\n",
        "import tensorflow as tf\n",
        "\n",
        "import random\n",
        "import os\n",
        "from tensorflow.keras.preprocessing.image import load_img\n",
        "from tensorflow.keras.preprocessing import image\n",
        "\n",
        "from tqdm import tqdm_notebook\n",
        "\n",
        "%matplotlib inline\n",
        "print(tf.__version__)\n",
        "\n",
        "run_flag = 0"
      ],
      "execution_count": null,
      "outputs": []
    },
    {
      "cell_type": "code",
      "metadata": {
        "id": "WgK9UPQ3fdqC"
      },
      "source": [
        "from asiCD import model_utils\n",
        "from asiCD.models import model_vgg16\n",
        "from asiCD.models import model_resnet18\n",
        "from asiCD.models import model_densenet21"
      ],
      "execution_count": null,
      "outputs": []
    },
    {
      "cell_type": "code",
      "metadata": {
        "id": "XBIp0TtRfdqC",
        "colab": {
          "base_uri": "https://localhost:8080/"
        },
        "outputId": "a799edbf-016f-4e31-ca47-a54bbd3e3867"
      },
      "source": [
        "config = utilities.read_json(\"config.json\")\n",
        "print(config)\n",
        "\n",
        "dataset_path = config[\"dataset_path\"]\n",
        "AUG_CONFIG = config[\"aug_config\"]"
      ],
      "execution_count": null,
      "outputs": []
    },
    {
      "cell_type": "code",
      "metadata": {
        "id": "wG8nRAdrnead",
        "colab": {
          "base_uri": "https://localhost:8080/"
        },
        "outputId": "4241ac9f-393f-424e-ee1a-88c188c91995"
      },
      "source": [
        "print(dataset_path)"
      ],
      "execution_count": null,
      "outputs": []
    },
    {
      "cell_type": "markdown",
      "metadata": {
        "id": "5Ls-AqCsrE3T"
      },
      "source": [
        "##  Preprocessing Data\n",
        "- Required file structure (for ImageDataGenerator)\n",
        "```\n",
        "dataset\n",
        "├───test\n",
        "│   └───img\n",
        "├───test_labels\n",
        "│   └───img\n",
        "├───train\n",
        "│   └───img\n",
        "├───train_labels\n",
        "│   └───img\n",
        "├───val\n",
        "│   └───img\n",
        "├───val_lables\n",
        "│   └───img\n",
        "```\n",
        "- Ops:\n",
        "  1. Downsamling\n",
        "  2. Gaussian Filter (Pending)\n",
        "  3. Undistorting (Pending)\n",
        "- Saving processed Images and Masks"
      ]
    },
    {
      "cell_type": "markdown",
      "metadata": {
        "id": "LkIMqtnF45nG"
      },
      "source": [
        "### Output File Structure"
      ]
    },
    {
      "cell_type": "code",
      "metadata": {
        "id": "EN1Yz4c40hSG",
        "colab": {
          "base_uri": "https://localhost:8080/"
        },
        "outputId": "13449105-e74a-416d-cb14-f369fdbf817e"
      },
      "source": [
        "%ls"
      ],
      "execution_count": null,
      "outputs": []
    },
    {
      "cell_type": "code",
      "metadata": {
        "id": "vb2g-2hrrFHG",
        "colab": {
          "base_uri": "https://localhost:8080/"
        },
        "outputId": "0fe36829-5f9b-4a64-e46b-0d73549df44b"
      },
      "source": [
        "# Creating output file structure\n",
        "utilities.create_output_dir()\n",
        "dataset_path = utilities.create_dataset_dir(\"output\")\n",
        "run_flag += 1\n",
        "print(dataset_path)"
      ],
      "execution_count": null,
      "outputs": []
    },
    {
      "cell_type": "markdown",
      "metadata": {
        "id": "86TctMfr4_zH"
      },
      "source": [
        "### Preprocessing"
      ]
    },
    {
      "cell_type": "code",
      "metadata": {
        "id": "TYzz2mbV5UaU"
      },
      "source": [],
      "execution_count": null,
      "outputs": []
    },
    {
      "cell_type": "markdown",
      "metadata": {
        "id": "VJ0ZrhBofdqC"
      },
      "source": [
        "## Loading Images and Labels from Google Drive"
      ]
    },
    {
      "cell_type": "code",
      "metadata": {
        "id": "VmNLAoxB5iPR"
      },
      "source": [
        "dataset_path = \"dataset/swimseg-2-modded\""
      ],
      "execution_count": null,
      "outputs": []
    },
    {
      "cell_type": "code",
      "metadata": {
        "id": "kQ0Jah3-m4fJ",
        "colab": {
          "base_uri": "https://localhost:8080/"
        },
        "outputId": "2a2b0697-53ad-4f83-8be9-07f337c13834"
      },
      "source": [
        "train_generator = model_utils.get_img_mask_generators(dataset_path + \"/train\", aug_config = AUG_CONFIG)\n",
        "test_generator = model_utils.get_img_mask_generators(dataset_path + \"/test\", aug_config = AUG_CONFIG)\n",
        "val_generator = model_utils.get_img_mask_generators(dataset_path + \"/val\", aug_config = AUG_CONFIG)"
      ],
      "execution_count": null,
      "outputs": []
    },
    {
      "cell_type": "code",
      "metadata": {
        "id": "ynNUTaiF7b91",
        "colab": {
          "base_uri": "https://localhost:8080/"
        },
        "outputId": "e7f32ffe-ace3-4ba8-e0cd-db3d11871dbc"
      },
      "source": [
        "\"\"\" TEST \"\"\"\n",
        "image_datagen = tf.keras.preprocessing.image.ImageDataGenerator()\n",
        "mask_datagen = tf.keras.preprocessing.image.ImageDataGenerator()\n",
        "\n",
        "image_generator = image_datagen.flow_from_directory(dataset_path + \"/train\",\n",
        "                                                    target_size= (128,128),\n",
        "                                                    color_mode=\"rgb\",\n",
        "                                                    class_mode=None,\n",
        "                                                    seed=0)\n",
        "mask_generator = mask_datagen.flow_from_directory(dataset_path + \"/train_labels\",\n",
        "                                                  target_size= (128,128),\n",
        "                                                  color_mode=\"grayscale\",\n",
        "                                                  class_mode=None,\n",
        "                                                  seed=0)\n"
      ],
      "execution_count": null,
      "outputs": []
    },
    {
      "cell_type": "code",
      "metadata": {
        "id": "06Gc1AC-oMzK",
        "colab": {
          "base_uri": "https://localhost:8080/",
          "height": 222
        },
        "outputId": "9fc533e4-cea7-450a-906b-13fefbbb5bf9"
      },
      "source": [
        "img_arr = image_generator.next()\n",
        "mask_arr = mask_generator.next()\n",
        "for i in range(0,1):\n",
        "    image = img_arr[i]\n",
        "    mask = mask_arr[i]\n",
        "    \n",
        "    plt.subplot(1,2,1)\n",
        "    plt.title(f\"Image: {image.shape}\")\n",
        "    plt.imshow(image / 255)\n",
        "    plt.xticks([])\n",
        "    plt.yticks([])\n",
        "    \n",
        "    plt.subplot(1,2,2)\n",
        "    plt.title(f\"Mask: {mask.shape}\")\n",
        "    plt.imshow(mask[:,:,0] / 255)\n",
        "    plt.xticks([])\n",
        "    plt.yticks([])\n",
        "\n",
        "    plt.show()\n",
        "\n",
        "\"\"\" END \"\"\""
      ],
      "execution_count": null,
      "outputs": []
    },
    {
      "cell_type": "code",
      "metadata": {
        "id": "X1mUwZjIfdqC"
      },
      "source": [
        "# TRAIN_IMAGES_PATH = \"/content/drive/My Drive/asiCD/swimseg-dataset-npy/2020-11-14-12-21-train_images.npy\"\n",
        "# TRAIN_LABELS_PATH = \"/content/drive/My Drive/asiCD/swimseg-dataset-npy/2020-11-14-12-21-train_labels.npy\"\n",
        "\n",
        "# train_images = load_npy(TRAIN_IMAGES_PATH)\n",
        "# train_labels = load_npy(TRAIN_LABELS_PATH)\n",
        "\n",
        "# TEST_IMAGES_PATH = \"/content/drive/My Drive/asiCD/swimseg-dataset-npy/2020-11-14-12-21-test_images.npy\"\n",
        "# TEST_LABELS_PATH = \"/content/drive/My Drive/asiCD/swimseg-dataset-npy/2020-11-14-12-21-test_labels.npy\"\n",
        "\n",
        "# test_images = load_npy(TEST_IMAGES_PATH)\n",
        "# test_labels = load_npy(TEST_LABELS_PATH)\n",
        "\n",
        "# VAL_IMAGES_PATH = \"/content/drive/My Drive/asiCD/swimseg-dataset-npy/2020-11-14-12-21-val_images.npy\"\n",
        "# VAL_LABELS_PATH = \"/content/drive/My Drive/asiCD/swimseg-dataset-npy/2020-11-14-12-21-val_labels.npy\"\n",
        "\n",
        "# val_images = load_npy(VAL_IMAGES_PATH)\n",
        "# val_labels = load_npy(VAL_LABELS_PATH)"
      ],
      "execution_count": null,
      "outputs": []
    },
    {
      "cell_type": "code",
      "metadata": {
        "id": "SeuNzujMfdqC"
      },
      "source": [
        "models = [model_vgg16, model_resnet18, model_densenet21]"
      ],
      "execution_count": null,
      "outputs": []
    },
    {
      "cell_type": "code",
      "metadata": {
        "id": "MjQ4njnnfdqD",
        "colab": {
          "base_uri": "https://localhost:8080/"
        },
        "outputId": "d1728879-52f3-410f-cf6b-339b63959a69"
      },
      "source": [
        "model = models[1].MultiExpoNet.build(128, 128, 1, 1, 3, 0.001, 10)"
      ],
      "execution_count": null,
      "outputs": []
    },
    {
      "cell_type": "code",
      "metadata": {
        "id": "mRrlxMTzfdqD",
        "colab": {
          "base_uri": "https://localhost:8080/"
        },
        "outputId": "ad85481f-5420-407a-91a0-3fe63eaf7591"
      },
      "source": [
        "model.summary()"
      ],
      "execution_count": null,
      "outputs": []
    },
    {
      "cell_type": "code",
      "metadata": {
        "id": "xgcO5kKEq3tC"
      },
      "source": [
        "EPOCHS = 10\n",
        "BS = 32\n",
        "\n",
        "train_num = 861\n",
        "test_num = 51\n",
        "\n",
        "steps_per_epoch = train_num // BS\n",
        "validation_steps = test_num // BS"
      ],
      "execution_count": null,
      "outputs": []
    },
    {
      "cell_type": "code",
      "metadata": {
        "id": "g6usnWOsoKS9",
        "colab": {
          "base_uri": "https://localhost:8080/"
        },
        "outputId": "6f000c40-0aef-4fd6-d6cd-ab7ce31d36c3"
      },
      "source": [
        "hist = model.fit(test_generator, \n",
        "                 epochs= EPOCHS,\n",
        "                 steps_per_epoch= steps_per_epoch, \n",
        "                 validation_data= val_generator,\n",
        "                 validation_steps= validation_steps)\n",
        "\n",
        "# hist = model.fit(x= img_arr, y =mask_arr, epochs=10)"
      ],
      "execution_count": null,
      "outputs": []
    },
    {
      "cell_type": "code",
      "metadata": {
        "id": "jR375X-yoM17",
        "colab": {
          "base_uri": "https://localhost:8080/"
        },
        "outputId": "54d8350b-9b47-463d-9813-e2786a574219"
      },
      "source": [
        "img_arr.shape"
      ],
      "execution_count": null,
      "outputs": []
    },
    {
      "cell_type": "code",
      "metadata": {
        "id": "-4MExaBcoM4h",
        "colab": {
          "base_uri": "https://localhost:8080/"
        },
        "outputId": "41520dd2-99d2-4e02-d3c5-48dc3f8057b6"
      },
      "source": [
        "mask_arr.shape"
      ],
      "execution_count": null,
      "outputs": []
    },
    {
      "cell_type": "code",
      "metadata": {
        "id": "xwFsy02SeiQo"
      },
      "source": [
        "model.save(\"some_weights.h5\")"
      ],
      "execution_count": null,
      "outputs": []
    },
    {
      "cell_type": "code",
      "metadata": {
        "colab": {
          "base_uri": "https://localhost:8080/",
          "height": 1000
        },
        "id": "LuHtuB-OrP4O",
        "outputId": "7f4f1c2f-daff-4696-ab3c-ee5e5f32fe7d"
      },
      "source": [
        "for sample_in in range(32):\n",
        "  plt.figure(figsize=(15,15))\n",
        "  y_pred = model.predict(np.expand_dims(img_arr[sample_in], axis=0))\n",
        "  plt.subplot(1,5,1)\n",
        "  plt.imshow(img_arr[sample_in,...]/255)\n",
        "  plt.title('Input Image')\n",
        "  plt.subplot(1,5,2)\n",
        "  plt.imshow(mask_arr[sample_in,:,:,0])\n",
        "  plt.title('Ground Truth')\n",
        "  plt.subplot(1,5,3)\n",
        "  y_pred += np.abs(np.min(y_pred))\n",
        "  plt.imshow(y_pred[0,:,:,0] / np.max(y_pred))\n",
        "  plt.title('Predicted Output')\n",
        "  plt.subplot(1,5,4)\n",
        "  y_pred = np.where(y_pred<np.average(y_pred),y_pred,255)\n",
        "  y_pred = np.where(y_pred>np.average(y_pred),y_pred,0)\n",
        "  plt.imshow(y_pred[0,:,:,0] / np.max(y_pred))\n",
        "  plt.title('Output with thresholds')\n",
        "  plt.savefig(f'./predictions/Image{sample_in}.png', dpi=400, bbox_inches ='tight' )\n",
        "# plt.subplot(1,5,5)\n",
        "# cax = plt.axes([0.85, 0.1, 0.075, 0.8])\n",
        "# plt.colorbar(cax=cax,shrink=0.1) # need to work on positioning. orientation=horizontal is not helpful\n",
        "plt.show() # plt.show() destorys the instance after display. Save fig before showing."
      ],
      "execution_count": null,
      "outputs": []
    },
    {
      "cell_type": "code",
      "metadata": {
        "colab": {
          "base_uri": "https://localhost:8080/"
        },
        "id": "RBJRnLCYrxBU",
        "outputId": "71672482-b782-4e31-a6da-5068eb8ed832"
      },
      "source": [
        "np.max(y_pred)"
      ],
      "execution_count": null,
      "outputs": []
    },
    {
      "cell_type": "code",
      "metadata": {
        "id": "hjvgf1XMuIck",
        "colab": {
          "base_uri": "https://localhost:8080/",
          "height": 241
        },
        "outputId": "cf235cda-18b3-4127-986a-c90a9292c5d0"
      },
      "source": [
        "from tensorflow.keras.preprocessing.image import img_to_array\r\n",
        "# List of output layer from the previously defined model\r\n",
        "successive_outputs = [layer.output for layer in model.layers]\r\n",
        "\r\n",
        "# Building a model with 1 input to multiple output structure\r\n",
        "visualization_model = tf.keras.models.Model(\r\n",
        "    inputs=model.input, outputs=successive_outputs\r\n",
        ")\r\n",
        "\r\n",
        "# preparing a random image from the training dataset\r\n",
        "train_dir = '/content/drive/MyDrive/asiCD-dev/dataset/swimseg-2-modded/train/img'\r\n",
        "train_files_list = os.listdir(train_dir)\r\n",
        "img_path = random.choice([os.path.join(train_dir,f) for f in train_files_list])\r\n",
        "img = load_img(\r\n",
        "    img_path,\r\n",
        "    target_size=(128, 128),\r\n",
        ")\r\n",
        "\r\n",
        "x = image.img_to_array(img)\r\n",
        "x = np.expand_dims(x, axis=0) # (or) ==> x = x.reshape((1,)+x.shape) \r\n",
        "# print(x.shape)\r\n",
        "x /= 255.0\r\n",
        "\r\n",
        "successive_feature_maps = visualization_model.predict(x)\r\n",
        "\r\n",
        "layer_names = [layer.name for layer in model.layers]\r\n",
        "# print(layer_names)\r\n",
        "for layer_name,feature_map in zip(layer_names,successive_feature_maps):\r\n",
        "    if len(feature_map.shape) == 4:\r\n",
        "        n_features = feature_map.shape[-1]\r\n",
        "        size = feature_map.shape[1]\r\n",
        "\r\n",
        "        display_grid = np.zeros((size, size * n_features))\r\n",
        "\r\n",
        "        for i in range(n_features):\r\n",
        "            x = feature_map[:,:,:,i]\r\n",
        "            x -= x.mean()\r\n",
        "            x /= x.std()\r\n",
        "            x *= 64\r\n",
        "            x += 128\r\n",
        "            x = np.clip(x,0,255).astype('uint8')\r\n",
        "            display_grid[:, i* size : (i+1)*size] = x\r\n",
        "    scale = 20./n_features\r\n",
        "    plt.figure(figsize=(scale * n_features, scale))\r\n",
        "    plt.title(layer_name)\r\n",
        "    plt.grid('Off')\r\n",
        "    plt.imshow(display_grid, aspect='auto', cmap='viridis')"
      ],
      "execution_count": null,
      "outputs": []
    },
    {
      "cell_type": "code",
      "metadata": {
        "id": "FH4fRQMLWgAN"
      },
      "source": [
        "# running inference on uploaded images\r\n",
        "\r\n",
        "import numpy as np\r\n",
        "from google.colab import files\r\n",
        "from keras.preprocessing import image\r\n",
        "\r\n",
        "uploaded = files.upload()\r\n",
        "\r\n",
        "for filename in uploaded.keys():\r\n",
        "\r\n",
        "  path = './'+filename\r\n",
        "  img = image.load_img(path,target_size=(128,128))\r\n",
        "  x = image.img_to_array(img)\r\n",
        "  x = np.expand_dims(x,axis=0)\r\n",
        "  # print(x.shape)\r\n",
        "  plt.gcf()\r\n",
        "  plt.subplot(1,2,1)\r\n",
        "  plt.imshow(x[0,...]/255.0)  \r\n",
        "  plt.subplot(1,2,2)\r\n",
        "  pred = model.predict(x)\r\n",
        "  plt.imshow(pred[0,...],cmap='viridis')  \r\n",
        "  plt.savefig('./predictions/pred.png',dpi=400)\r\n",
        "  plt.show()"
      ],
      "execution_count": null,
      "outputs": []
    }
  ]
}