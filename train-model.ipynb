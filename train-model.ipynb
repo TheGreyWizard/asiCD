{
 "metadata": {
  "language_info": {
   "codemirror_mode": {
    "name": "ipython",
    "version": 3
   },
   "file_extension": ".py",
   "mimetype": "text/x-python",
   "name": "python",
   "nbconvert_exporter": "python",
   "pygments_lexer": "ipython3",
   "version": "3.7.7-final"
  },
  "orig_nbformat": 2,
  "kernelspec": {
   "name": "python3",
   "display_name": "Python 3"
  }
 },
 "nbformat": 4,
 "nbformat_minor": 2,
 "cells": [
  {
   "source": [
    "## Mounting Drive"
   ],
   "cell_type": "markdown",
   "metadata": {}
  },
  {
   "cell_type": "code",
   "execution_count": null,
   "metadata": {},
   "outputs": [],
   "source": [
    "from google.colab import drive\n",
    "drive.mount('/content/drive')"
   ]
  },
  {
   "source": [
    "## Installing Dependencies"
   ],
   "cell_type": "markdown",
   "metadata": {}
  },
  {
   "cell_type": "code",
   "execution_count": null,
   "metadata": {},
   "outputs": [],
   "source": [
    "!pip install tensorflow-gpu==2.1.0\n",
    "# !pip install tqdm\n",
    "# !pip install imgaug"
   ]
  },
  {
   "cell_type": "code",
   "execution_count": null,
   "metadata": {},
   "outputs": [],
   "source": [
    "import numpy as np\n",
    "import matplotlib.pyplot as plt\n",
    "import cv2\n",
    "import tensorflow as tf\n",
    "\n",
    "from tqdm import tqdm_notebook\n",
    "\n",
    "%matplotlib inline\n",
    "print(tf.__version__)"
   ]
  },
  {
   "cell_type": "code",
   "execution_count": null,
   "metadata": {},
   "outputs": [],
   "source": [
    "from scripts import utilities\n",
    "from scripts.models import model_vgg16\n",
    "from scripts.models import model_resnet18\n",
    "from scripts.models import model_densenet21"
   ]
  },
  {
   "cell_type": "code",
   "execution_count": null,
   "metadata": {},
   "outputs": [],
   "source": [
    "config = {}"
   ]
  },
  {
   "source": [
    "## Loading Images and Labels from Google Drive"
   ],
   "cell_type": "markdown",
   "metadata": {}
  },
  {
   "cell_type": "code",
   "execution_count": null,
   "metadata": {},
   "outputs": [],
   "source": [
    "TRAIN_IMAGES_PATH = \"/content/drive/My Drive/asiCD/swimseg-dataset-npy/2020-11-14-12-21-train_images.npy\"\n",
    "TRAIN_LABELS_PATH = \"/content/drive/My Drive/asiCD/swimseg-dataset-npy/2020-11-14-12-21-train_labels.npy\"\n",
    "\n",
    "train_images = load_npy(TRAIN_IMAGES_PATH)\n",
    "train_labels = load_npy(TRAIN_LABELS_PATH)\n",
    "\n",
    "TEST_IMAGES_PATH = \"/content/drive/My Drive/asiCD/swimseg-dataset-npy/2020-11-14-12-21-test_images.npy\"\n",
    "TEST_LABELS_PATH = \"/content/drive/My Drive/asiCD/swimseg-dataset-npy/2020-11-14-12-21-test_labels.npy\"\n",
    "\n",
    "test_images = load_npy(TEST_IMAGES_PATH)\n",
    "test_labels = load_npy(TEST_LABELS_PATH)\n",
    "\n",
    "VAL_IMAGES_PATH = \"/content/drive/My Drive/asiCD/swimseg-dataset-npy/2020-11-14-12-21-val_images.npy\"\n",
    "VAL_LABELS_PATH = \"/content/drive/My Drive/asiCD/swimseg-dataset-npy/2020-11-14-12-21-val_labels.npy\"\n",
    "\n",
    "val_images = load_npy(VAL_IMAGES_PATH)\n",
    "val_labels = load_npy(VAL_LABELS_PATH)"
   ]
  },
  {
   "cell_type": "code",
   "execution_count": null,
   "metadata": {},
   "outputs": [],
   "source": [
    "# models = [model_vgg16, model_resnet18, model_densenet21]"
   ]
  },
  {
   "cell_type": "code",
   "execution_count": null,
   "metadata": {},
   "outputs": [],
   "source": [
    "# model = models[0].MultiExpoNet.build(600, 600, 1, 3, 3, 0.01, 10)"
   ]
  },
  {
   "cell_type": "code",
   "execution_count": null,
   "metadata": {},
   "outputs": [],
   "source": [
    "# model.summary()"
   ]
  }
 ]
}