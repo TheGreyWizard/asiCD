{
 "metadata": {
  "language_info": {
   "codemirror_mode": {
    "name": "ipython",
    "version": 3
   },
   "file_extension": ".py",
   "mimetype": "text/x-python",
   "name": "python",
   "nbconvert_exporter": "python",
   "pygments_lexer": "ipython3",
   "version": "3.7.7-final"
  },
  "orig_nbformat": 2,
  "kernelspec": {
   "name": "python3",
   "display_name": "Python 3"
  }
 },
 "nbformat": 4,
 "nbformat_minor": 2,
 "cells": [
  {
   "cell_type": "code",
   "execution_count": 1,
   "metadata": {},
   "outputs": [],
   "source": [
    "import tensorflow as tf\n",
    "from tensorflow.keras.preprocessing.image import ImageDataGenerator"
   ]
  },
  {
   "cell_type": "code",
   "execution_count": 2,
   "metadata": {},
   "outputs": [],
   "source": [
    "from scripts import utilities"
   ]
  },
  {
   "cell_type": "code",
   "execution_count": 3,
   "metadata": {},
   "outputs": [],
   "source": [
    "config = utilities.read_json(\"config.json\")"
   ]
  },
  {
   "cell_type": "code",
   "execution_count": 4,
   "metadata": {},
   "outputs": [],
   "source": [
    "# dataset_path = config[\"dataset_path\"]\n",
    "dataset_path = \"dataset/swimseg-2-modded\""
   ]
  },
  {
   "cell_type": "code",
   "execution_count": 5,
   "metadata": {},
   "outputs": [
    {
     "output_type": "execute_result",
     "data": {
      "text/plain": [
       "'dataset/swimseg-2-modded'"
      ]
     },
     "metadata": {},
     "execution_count": 5
    }
   ],
   "source": [
    "dataset_path"
   ]
  },
  {
   "cell_type": "code",
   "execution_count": 6,
   "metadata": {},
   "outputs": [
    {
     "output_type": "stream",
     "name": "stdout",
     "text": [
      "From dataset/swimseg-2-modded/train\n",
      "Found 861 images belonging to 1 classes.\n",
      "Found 861 images belonging to 1 classes.\n",
      "From dataset/swimseg-2-modded/test\n",
      "Found 51 images belonging to 1 classes.\n",
      "Found 51 images belonging to 1 classes.\n",
      "From dataset/swimseg-2-modded/val\n",
      "Found 101 images belonging to 1 classes.\n",
      "Found 101 images belonging to 1 classes.\n"
     ]
    }
   ],
   "source": [
    "train_generator = utilities.get_img_mask_generators(dataset_path + \"/train\")\n",
    "test_generator = utilities.get_img_mask_generators(dataset_path + \"/test\")\n",
    "val_generator = utilities.get_img_mask_generators(dataset_path + \"/val\")\n"
   ]
  },
  {
   "cell_type": "code",
   "execution_count": null,
   "metadata": {},
   "outputs": [],
   "source": []
  }
 ]
}