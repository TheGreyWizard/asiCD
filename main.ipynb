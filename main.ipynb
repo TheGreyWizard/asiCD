{
 "metadata": {
  "language_info": {
   "codemirror_mode": {
    "name": "ipython",
    "version": 3
   },
   "file_extension": ".py",
   "mimetype": "text/x-python",
   "name": "python",
   "nbconvert_exporter": "python",
   "pygments_lexer": "ipython3",
   "version": "3.7.0-final"
  },
  "orig_nbformat": 2,
  "kernelspec": {
   "name": "python361064bitconda8af4fb1a5235410c84ea5e69f000c5e4",
   "display_name": "Python 3.6.10 64-bit (conda)"
  }
 },
 "nbformat": 4,
 "nbformat_minor": 2,
 "cells": [
  {
   "source": [
    "## Dependencies\n",
    "import tensorflow as tf\n",
    "import os\n",
    "import numpy as np\n",
    "import matplotlib.pyplot as plt\n",
    "import cv2\n",
    "import imageio\n",
    "import polarTransform as pt"
   ],
   "cell_type": "code",
   "metadata": {},
   "execution_count": null,
   "outputs": []
  },
  {
   "cell_type": "code",
   "execution_count": null,
   "metadata": {},
   "outputs": [],
   "source": [
    "## Main block\n",
    "\n"
   ]
  },
  {
   "cell_type": "code",
   "execution_count": null,
   "metadata": {},
   "outputs": [],
   "source": [
    "## Image transformation\n",
    "\n",
    "# polarImage = imageio.imread(\"D:\\\\asiProject\\\\asiCD\\\\dataset\\\\20190701045440_11.jpg\")\n",
    "polarImage = imageio.imread(\".\\dataset\\\\20190701045440_11.jpg\")\n",
    "plt.imshow(polarImage)\n",
    "\n",
    "cartImage = pt.convertToCartesianImage(polarImage,hasColor=True)\n",
    "plt.figure()\n",
    "# plt.imshow(cartImage, origin='lower')\n",
    "cv2.imshow(\"image\", cartImage)\n",
    "cv2.waitKey(0)\n"
   ]
  }
 ]
}