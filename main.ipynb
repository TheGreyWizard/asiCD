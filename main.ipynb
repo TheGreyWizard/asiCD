{
 "metadata": {
  "language_info": {
   "codemirror_mode": {
    "name": "ipython",
    "version": 3
   },
   "file_extension": ".py",
   "mimetype": "text/x-python",
   "name": "python",
   "nbconvert_exporter": "python",
   "pygments_lexer": "ipython3",
   "version": "3.7.0-final"
  },
  "orig_nbformat": 2,
  "kernelspec": {
   "name": "Python 3.7.0 64-bit (conda)",
   "display_name": "Python 3.7.0 64-bit (conda)",
   "metadata": {
    "interpreter": {
     "hash": "147cdb1757f7db4d34d39d684c87041b1886dc895c0fd9fd700248e06fb17af2"
    }
   }
  }
 },
 "nbformat": 4,
 "nbformat_minor": 2,
 "cells": [
  {
   "source": [
    "## Dependencies\n",
    "import argparse\n",
    "import os\n",
    "# import tensorflow as tf\n",
    "import numpy as np\n",
    "import matplotlib.pyplot as plt\n",
    "import cv2 as cv\n",
    "import json\n",
    "# import imageio\n",
    "# import polarTransform as pt\n",
    "\n",
    "# argparser = argparse.ArgumentParser(description = \"Test Text\")\n",
    "# argparser.add_argument(\"-c\", \"--config\", help=\"path to configuration file\")"
   ],
   "cell_type": "code",
   "metadata": {},
   "execution_count": 22,
   "outputs": []
  },
  {
   "cell_type": "code",
   "execution_count": 23,
   "metadata": {},
   "outputs": [],
   "source": [
    "## Image transformation CircularCrop by applying mask\n",
    " \n",
    "def apply_circular_mask(sq_image, radius:int):\n",
    "    \"\"\"\n",
    "    [Apply a circular mask to a provided image.]\n",
    "    Args:\n",
    "        sq_image ([np.array]): [A previously cropped image obtained by calling the function square_crop()]\n",
    "        radius ([int]): [radius of the circular mask to applied]\n",
    "\n",
    "    Returns:\n",
    "        [np.array]: [Returns a numpy array representing the image with a circular mask crop applied]\n",
    "    \"\"\"\n",
    "    r = radius\n",
    "    img1 = sq_image  # true image\n",
    "    # create an arrray of zeros with same shape as true image, i.e. black image of same shape as true image\n",
    "    img2 = np.zeros_like(sq_image)\n",
    "\n",
    "    # draw a white circle with radius 'r' == cropping radius, onto \n",
    "    img2 = cv.circle(img2, (r, r), r, (255, 255, 255), -1)\n",
    "    rows, cols, channels = img1.shape\n",
    "    roi = img1[0:rows, 0:cols]\n",
    "    img2gray = cv.cvtColor(img2, cv.COLOR_BGR2GRAY)\n",
    "    ret, mask = cv.threshold(img2gray, 10, 255, cv.THRESH_BINARY)\n",
    "    mask_inv = cv.bitwise_not(mask)\n",
    "\n",
    "    img1_bg = cv.bitwise_and(roi, roi, mask=mask)\n",
    "\n",
    "    # for debugging\n",
    "    # cv.startWindowThread()\n",
    "    # cv.namedWindow(\"img1_bg\", cv.WINDOW_NORMAL)\n",
    "    # cv.imshow(\"img1_bg\", img1_bg)\n",
    "    # cv.waitKey(0)\n",
    "    # cv.destroyAllWindows()\n",
    "    \n",
    "    return img1_bg\n"
   ]
  },
  {
   "cell_type": "code",
   "execution_count": 24,
   "metadata": {},
   "outputs": [],
   "source": [
    "## Image transformation square crop\n",
    "\n",
    "def square_crop(imageLoc: str, amount: int):\n",
    "    \"\"\"\n",
    "    Crops the provided image by 'amount' pixels.\n",
    "    Writes the croped image to the cropped images folder.\n",
    "    Args:\n",
    "        imageLoc (str): relative path to location of image\n",
    "\n",
    "    Returns:\n",
    "        [np.array]: [returns the cropped image as a numpy array]\n",
    "    \"\"\"\n",
    "    imageLoc = imageLoc\n",
    "    amount = amount\n",
    "    img = cv.imread(imageLoc)\n",
    "    # cv.imshow(\"image\", img)\n",
    "    # cv.waitKey(0)\n",
    "    # cv.destroyAllWindows()\n",
    "    x, y, depth = np.shape(img)\n",
    "    r = int((max(x, y) - amount) / 2)\n",
    "    x = int(x / 2)\n",
    "    y = int(y / 2)\n",
    "\n",
    "    cv.circle(img, (x, y), r, (0, 0, 0), 2)\n",
    "    crpdimg = img[x - r : x + r, y - r : y + r]\n",
    "\n",
    "    # for debugging\n",
    "    # cv.imshow(\"image\", crpdimg)\n",
    "    # cv.waitKey(0)\n",
    "    # cv.destroyAllWindows()\n",
    "\n",
    "    # cv.imwrite(\"./dataset/cropped/croppedImage.jpg\", crpdimg)\n",
    "    return (crpdimg, r)"
   ]
  },
  {
   "cell_type": "code",
   "execution_count": 25,
   "metadata": {},
   "outputs": [],
   "source": [
    "## Preprocessing block\n",
    "\n",
    "def preprocess(datapath:str, crop_depth:int):\n",
    "\n",
    "    print(\"Preprocess called\")\n",
    "    rootdir = datapath\n",
    "    for subdir, dirs, files in os.walk(rootdir):\n",
    "        print(files , \"\\n\")\n",
    "    return False"
   ]
  },
  {
   "source": [
    "## Main block\n",
    "\n",
    "def _main_():\n",
    "    \n",
    "    # json load\n",
    "    config_path = \".\\config.json\"\n",
    "    with open(config_path) as config_buffer:\n",
    "        config = json.load(config_buffer)\n",
    "\n",
    "    # Test message\n",
    "    print(\"Main method called\")\n",
    "\n",
    "    # preprocess(config[\"preprocess\"][\"dataset_path\"],config[\"preprocess\"][\"crop_px\"])\n",
    "    \n",
    "    img_cropped, radius = square_crop(\".\\\\dataset\\\\20190701045440_11.jpg\", config[\"preprocess\"][\"crop_px\"])\n",
    "    img_masked = apply_circular_mask(img_cropped, radius)\n",
    "    cv.imwrite((\"./dataset/cropped/\"+\"cropped_\"+\"test.jpg\"), img_masked)\n",
    "\n",
    "# if __name__== \"__main__\":\n",
    "#     # args = argparser.parse_args()\n",
    "#     args = {\"crop_px\":320}\n",
    "\n",
    "#     #default arguments\n",
    "#     args.conf = \"config.json\"\n",
    "_main_()"
   ],
   "cell_type": "code",
   "metadata": {
    "tags": []
   },
   "execution_count": 26,
   "outputs": [
    {
     "output_type": "stream",
     "name": "stdout",
     "text": [
      "Main method called\n"
     ]
    }
   ]
  },
  {
   "cell_type": "code",
   "execution_count": null,
   "metadata": {},
   "outputs": [],
   "source": []
  }
 ]
}